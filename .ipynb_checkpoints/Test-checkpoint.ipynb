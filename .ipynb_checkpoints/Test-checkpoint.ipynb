{
 "cells": [
  {
   "cell_type": "code",
   "execution_count": 7,
   "metadata": {
    "collapsed": false
   },
   "outputs": [],
   "source": [
    "opt = {}\n",
    "opt.classnum = 40\n",
    "opt.codebooktxt = '/home/yu/seg_proj/FCN/3d/list/codebook_40.txt' \n",
    "opt.classification = 1\n",
    "local codebooktxt = opt.codebooktxt\n",
    "codebook = torch.Tensor(40,3)\n",
    "if type(opt.classification) == 'number' and opt.classification == 1 then \n",
    "  local fcode = torch.DiskFile(codebooktxt, 'r')\n",
    "  for i = 1, 40 do \n",
    "    for j = 1, 3 do \n",
    "      codebook[{{i},{j}}] = fcode:readFloat()\n",
    "    end\n",
    "  end\n",
    "  fcode:close()\n",
    "end\n",
    "print(codebook)"
   ]
  },
  {
   "cell_type": "code",
   "execution_count": 14,
   "metadata": {
    "collapsed": false
   },
   "outputs": [
    {
     "ename": "[string \"codebook2 = torch.reshape(codebook[{{}, {1}}]...\"]:3: attempt to index global 'samples' (a nil value)\nstack traceback:\n\t[string \"codebook2 = torch.reshape(codebook[{{}, {1}}]...\"]:3: in main chunk\n\t[C]: in function 'xpcall'\n\t/home/yu/tools/torch/install/share/lua/5.1/itorch/main.lua:209: in function </home/yu/tools/torch/install/share/lua/5.1/itorch/main.lua:173>\n\t/home/yu/tools/torch/install/share/lua/5.1/lzmq/poller.lua:75: in function 'poll'\n\t.../yu/tools/torch/install/share/lua/5.1/lzmq/impl/loop.lua:307: in function 'poll'\n\t.../yu/tools/torch/install/share/lua/5.1/lzmq/impl/loop.lua:325: in function 'sleep_ex'\n\t.../yu/tools/torch/install/share/lua/5.1/lzmq/impl/loop.lua:370: in function 'start'\n\t/home/yu/tools/torch/install/share/lua/5.1/itorch/main.lua:381: in main chunk\n\t[C]: in function 'require'\n\t(command line):1: in main chunk\n\t[C]: at 0x00406670",
     "evalue": "",
     "output_type": "error",
     "traceback": [
      "[string \"codebook2 = torch.reshape(codebook[{{}, {1}}]...\"]:3: attempt to index global 'samples' (a nil value)\nstack traceback:\n\t[string \"codebook2 = torch.reshape(codebook[{{}, {1}}]...\"]:3: in main chunk\n\t[C]: in function 'xpcall'\n\t/home/yu/tools/torch/install/share/lua/5.1/itorch/main.lua:209: in function </home/yu/tools/torch/install/share/lua/5.1/itorch/main.lua:173>\n\t/home/yu/tools/torch/install/share/lua/5.1/lzmq/poller.lua:75: in function 'poll'\n\t.../yu/tools/torch/install/share/lua/5.1/lzmq/impl/loop.lua:307: in function 'poll'\n\t.../yu/tools/torch/install/share/lua/5.1/lzmq/impl/loop.lua:325: in function 'sleep_ex'\n\t.../yu/tools/torch/install/share/lua/5.1/lzmq/impl/loop.lua:370: in function 'start'\n\t/home/yu/tools/torch/install/share/lua/5.1/itorch/main.lua:381: in main chunk\n\t[C]: in function 'require'\n\t(command line):1: in main chunk\n\t[C]: at 0x00406670"
     ]
    }
   ],
   "source": [
    "codebook2 = torch.reshape(codebook[{{}, {1}}], opt.classnum ,1,1)\n",
    "codespatial = torch.expand(codebook2, opt.classnum,  3, 3)\n",
    "nowoutput = torch.reshape( samples[{{i}, {}, {h}, {w}}], opt.classnum, (#samples)[3], (#samples)[4]) \n",
    "print(codespatial)"
   ]
  },
  {
   "cell_type": "code",
   "execution_count": 17,
   "metadata": {
    "collapsed": false
   },
   "outputs": [],
   "source": [
    "require 'image'\n",
    "img = image.load('test_res/rgb_000009.jpg')\n"
   ]
  }
 ],
 "metadata": {
  "kernelspec": {
   "display_name": "iTorch",
   "language": "lua",
   "name": "itorch"
  },
  "language_info": {
   "name": "lua",
   "version": "5.1"
  }
 },
 "nbformat": 4,
 "nbformat_minor": 0
}
