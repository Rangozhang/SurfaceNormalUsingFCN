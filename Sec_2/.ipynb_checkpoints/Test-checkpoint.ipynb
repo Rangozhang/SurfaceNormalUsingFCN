{
 "cells": [
  {
   "cell_type": "code",
   "execution_count": 4,
   "metadata": {
    "collapsed": false
   },
   "outputs": [],
   "source": [
    "require 'nn'\n",
    "require 'nnx'\n",
    "  model_FCN = nn.Sequential()\n",
    "  model_FCN:add(nn.SpatialConvolution(3, 96, 11, 11, 4, 4, 100, 100))\n",
    "  model_FCN:add(nn.SpatialBatchNormalization(96))\n",
    "  model_FCN:add(nn.ReLU(true))\n",
    "  model_FCN:add(nn.SpatialMaxPooling(3, 3, 2, 2))\n",
    "  model_FCN:add(nn.SpatialConvolution(96, 256, 5, 5, 2, 2))\n",
    "  model_FCN:add(nn.SpatialBatchNormalization(256))\n",
    "  model_FCN:add(nn.ReLU(true))\n",
    "  model_FCN:add(nn.SpatialMaxPooling(3,3,2,2))\n",
    "  model_FCN:add(nn.SpatialConvolution(256, 384, 3, 3, 1, 1))\n",
    "  model_FCN:add(nn.SpatialBatchNormalization(384))\n",
    "  model_FCN:add(nn.ReLU(true))\n",
    "  model_FCN:add(nn.SpatialConvolution(384, 384, 3, 3, 1, 1))\n",
    "  model_FCN:add(nn.SpatialBatchNormalization(384))\n",
    "  model_FCN:add(nn.ReLU(true))\n",
    "  model_FCN:add(nn.SpatialConvolution(384, 256, 3, 3, 1, 1))\n",
    "  model_FCN:add(nn.SpatialBatchNormalization(256))\n",
    "  model_FCN:add(nn.ReLU(true))\n",
    "  model_FCN:add(nn.SpatialMaxPooling(3, 3, 2, 2))\n",
    "  model_FCN:add(nn.SpatialConvolution(256, 1024, 6, 6, 1, 1))\n",
    "  model_FCN:add(nn.SpatialBatchNormalization(1024))\n",
    "  model_FCN:add(nn.ReLU(true))\n",
    "  model_FCN:add(nn.SpatialFullConvolution(1024, 512, 4, 4, 1, 1))\n",
    "  model_FCN:add(nn.SpatialBatchNormalization(512))\n",
    "  model_FCN:add(nn.ReLU(true))\n",
    "  model_FCN:add(nn.SpatialConvolution(512, 40, 3, 3, 1, 1))\n",
    "  model_FCN:add(nn.SpatialBatchNormalization(3))\n",
    "  model_FCN:add(nn.ReLU(true))\n",
    "  model_FCN:add(nn.ReArrange())\n",
    "  model_FCN:add(nn.LogSoftMax())"
   ]
  },
  {
   "cell_type": "code",
   "execution_count": null,
   "metadata": {
    "collapsed": false
   },
   "outputs": [],
   "source": [
    "x = torch.randn(10, 3, 512, 512)\n",
    "y = model_FCN:forward(x)\n",
    "print(#y)"
   ]
  }
 ],
 "metadata": {
  "kernelspec": {
   "display_name": "iTorch",
   "language": "lua",
   "name": "itorch"
  },
  "language_info": {
   "name": "lua",
   "version": "5.1"
  }
 },
 "nbformat": 4,
 "nbformat_minor": 0
}
